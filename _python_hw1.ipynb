{
  "cells": [
    {
      "cell_type": "markdown",
      "metadata": {
        "id": "view-in-github",
        "colab_type": "text"
      },
      "source": [
        "<a href=\"https://colab.research.google.com/github/yanin254417/Data-Mining/blob/main/_python_hw1.ipynb\" target=\"_parent\"><img src=\"https://colab.research.google.com/assets/colab-badge.svg\" alt=\"Open In Colab\"/></a>"
      ]
    },
    {
      "cell_type": "markdown",
      "id": "3cf3e5da",
      "metadata": {
        "id": "3cf3e5da"
      },
      "source": [
        "# Practicing Python Coding"
      ]
    },
    {
      "cell_type": "markdown",
      "id": "901b0bbc",
      "metadata": {
        "id": "901b0bbc"
      },
      "source": [
        "* สร้าง list ที่ประกอบด้วยคำว่า \"hamburger\", \"freshfries\", \"smoothie\", \"milkshake\", และ \"hot dog\"\n",
        "* จาก list ข้างต้น ให้ทำการ slicing list ให้ได้คำดังต่อไปนี้\n",
        "    * \"fries\"\n",
        "    * \"milk\"\n",
        "    * \"dog\"\n",
        "    * \"burger\""
      ]
    },
    {
      "cell_type": "code",
      "execution_count": null,
      "id": "ef7d874a",
      "metadata": {
        "id": "ef7d874a",
        "colab": {
          "base_uri": "https://localhost:8080/"
        },
        "outputId": "f98635bb-cf94-49b5-e61d-44563465943a"
      },
      "outputs": [
        {
          "output_type": "execute_result",
          "data": {
            "text/plain": [
              "['hamburger', 'freshfries', 'smoothie', 'milkshake', 'hot dog']"
            ]
          },
          "metadata": {},
          "execution_count": 4
        }
      ],
      "source": [
        "list_aa = []\n",
        "list_aa.append('hamburger')\n",
        "list_aa.append('freshfries')\n",
        "list_aa.append('smoothie')\n",
        "list_aa.append('milkshake')\n",
        "list_aa.append('hot dog')\n",
        "list_aa"
      ]
    },
    {
      "cell_type": "code",
      "execution_count": null,
      "id": "9475c0f7",
      "metadata": {
        "id": "9475c0f7",
        "colab": {
          "base_uri": "https://localhost:8080/",
          "height": 36
        },
        "outputId": "0e175fb6-5bdc-4b81-df73-b4cf663a9f6c"
      },
      "outputs": [
        {
          "output_type": "execute_result",
          "data": {
            "text/plain": [
              "'fries'"
            ],
            "application/vnd.google.colaboratory.intrinsic+json": {
              "type": "string"
            }
          },
          "metadata": {},
          "execution_count": 7
        }
      ],
      "source": [
        "list_aa[1][5:]"
      ]
    },
    {
      "cell_type": "code",
      "source": [
        "list_aa[3][0:4]"
      ],
      "metadata": {
        "colab": {
          "base_uri": "https://localhost:8080/",
          "height": 36
        },
        "id": "SKhWIKb-37Yd",
        "outputId": "1c4b21de-0cdc-4229-fa3c-5982741368ca"
      },
      "id": "SKhWIKb-37Yd",
      "execution_count": null,
      "outputs": [
        {
          "output_type": "execute_result",
          "data": {
            "text/plain": [
              "'milk'"
            ],
            "application/vnd.google.colaboratory.intrinsic+json": {
              "type": "string"
            }
          },
          "metadata": {},
          "execution_count": 11
        }
      ]
    },
    {
      "cell_type": "code",
      "execution_count": null,
      "id": "c3afcef1",
      "metadata": {
        "id": "c3afcef1",
        "colab": {
          "base_uri": "https://localhost:8080/",
          "height": 36
        },
        "outputId": "56df4d32-18b0-4ded-eec2-8acbcebb1387"
      },
      "outputs": [
        {
          "output_type": "execute_result",
          "data": {
            "text/plain": [
              "'dog'"
            ],
            "application/vnd.google.colaboratory.intrinsic+json": {
              "type": "string"
            }
          },
          "metadata": {},
          "execution_count": 14
        }
      ],
      "source": [
        "list_aa[4][4:]"
      ]
    },
    {
      "cell_type": "code",
      "execution_count": null,
      "id": "c79c36a8",
      "metadata": {
        "id": "c79c36a8",
        "colab": {
          "base_uri": "https://localhost:8080/",
          "height": 36
        },
        "outputId": "42d86c05-4b29-4f0b-9c57-9f4f0fb8aef9"
      },
      "outputs": [
        {
          "output_type": "execute_result",
          "data": {
            "text/plain": [
              "'burger'"
            ],
            "application/vnd.google.colaboratory.intrinsic+json": {
              "type": "string"
            }
          },
          "metadata": {},
          "execution_count": 16
        }
      ],
      "source": [
        "list_aa[0][3:]"
      ]
    },
    {
      "cell_type": "markdown",
      "id": "49de30b8",
      "metadata": {
        "id": "49de30b8"
      },
      "source": [
        "สร้าง list [[1],[1,2],[1,2,3],...,[1,2,3,4,5,6,7,8,9,10]] โดยใช้ for loop"
      ]
    },
    {
      "cell_type": "code",
      "execution_count": null,
      "id": "21cf8ec7",
      "metadata": {
        "id": "21cf8ec7",
        "colab": {
          "base_uri": "https://localhost:8080/"
        },
        "outputId": "b1d79afd-a0ef-4f48-f6b0-b3bb16847fec"
      },
      "outputs": [
        {
          "output_type": "stream",
          "name": "stdout",
          "text": [
            "list_ans = []\n",
            "temp = [] i = 1\n",
            "temp = [1]\n",
            "list_ans = [[1]]\n",
            "temp = [] i = 2\n",
            "temp = [1, 2]\n",
            "list_ans = [[1], [1, 2]]\n",
            "temp = [] i = 3\n",
            "temp = [1, 2, 3]\n",
            "list_ans = [[1], [1, 2], [1, 2, 3]]\n",
            "temp = [] i = 4\n",
            "temp = [1, 2, 3, 4]\n",
            "list_ans = [[1], [1, 2], [1, 2, 3], [1, 2, 3, 4]]\n",
            "temp = [] i = 5\n",
            "temp = [1, 2, 3, 4, 5]\n",
            "list_ans = [[1], [1, 2], [1, 2, 3], [1, 2, 3, 4], [1, 2, 3, 4, 5]]\n",
            "temp = [] i = 6\n",
            "temp = [1, 2, 3, 4, 5, 6]\n",
            "list_ans = [[1], [1, 2], [1, 2, 3], [1, 2, 3, 4], [1, 2, 3, 4, 5], [1, 2, 3, 4, 5, 6]]\n",
            "temp = [] i = 7\n",
            "temp = [1, 2, 3, 4, 5, 6, 7]\n",
            "list_ans = [[1], [1, 2], [1, 2, 3], [1, 2, 3, 4], [1, 2, 3, 4, 5], [1, 2, 3, 4, 5, 6], [1, 2, 3, 4, 5, 6, 7]]\n",
            "temp = [] i = 8\n",
            "temp = [1, 2, 3, 4, 5, 6, 7, 8]\n",
            "list_ans = [[1], [1, 2], [1, 2, 3], [1, 2, 3, 4], [1, 2, 3, 4, 5], [1, 2, 3, 4, 5, 6], [1, 2, 3, 4, 5, 6, 7], [1, 2, 3, 4, 5, 6, 7, 8]]\n",
            "temp = [] i = 9\n",
            "temp = [1, 2, 3, 4, 5, 6, 7, 8, 9]\n",
            "list_ans = [[1], [1, 2], [1, 2, 3], [1, 2, 3, 4], [1, 2, 3, 4, 5], [1, 2, 3, 4, 5, 6], [1, 2, 3, 4, 5, 6, 7], [1, 2, 3, 4, 5, 6, 7, 8], [1, 2, 3, 4, 5, 6, 7, 8, 9]]\n",
            "temp = [] i = 10\n",
            "temp = [1, 2, 3, 4, 5, 6, 7, 8, 9, 10]\n",
            "list_ans = [[1], [1, 2], [1, 2, 3], [1, 2, 3, 4], [1, 2, 3, 4, 5], [1, 2, 3, 4, 5, 6], [1, 2, 3, 4, 5, 6, 7], [1, 2, 3, 4, 5, 6, 7, 8], [1, 2, 3, 4, 5, 6, 7, 8, 9], [1, 2, 3, 4, 5, 6, 7, 8, 9, 10]]\n",
            "[[1], [1, 2], [1, 2, 3], [1, 2, 3, 4], [1, 2, 3, 4, 5], [1, 2, 3, 4, 5, 6], [1, 2, 3, 4, 5, 6, 7], [1, 2, 3, 4, 5, 6, 7, 8], [1, 2, 3, 4, 5, 6, 7, 8, 9], [1, 2, 3, 4, 5, 6, 7, 8, 9, 10]]\n"
          ]
        }
      ],
      "source": [
        "list_ans = []\n",
        "print(f'list_ans = {list_ans}')\n",
        "for i in range(1,11):\n",
        "    temp = []\n",
        "    print(f'temp = {temp} i = {i}')\n",
        "    for j in range(i):\n",
        "        temp.append(1+j)\n",
        "    print(f'temp = {temp}')\n",
        "    list_ans.append(temp)\n",
        "    print(f'list_ans = {list_ans}')\n",
        "print(list_ans)"
      ]
    },
    {
      "cell_type": "markdown",
      "id": "178f5210",
      "metadata": {
        "id": "178f5210"
      },
      "source": [
        "list_ex = [1,5,9,-19,-2,0] # หาค่ามากที่สุดใน list_ex โดยไม่ใช้ function max (ใช้ for กับ if)"
      ]
    },
    {
      "cell_type": "code",
      "execution_count": null,
      "id": "fd2f819e",
      "metadata": {
        "id": "fd2f819e",
        "colab": {
          "base_uri": "https://localhost:8080/"
        },
        "outputId": "a8a83a14-37d7-4e6f-b9fb-c6646b3b13ac"
      },
      "outputs": [
        {
          "output_type": "stream",
          "name": "stdout",
          "text": [
            "9\n"
          ]
        }
      ],
      "source": [
        "list_ex = [1,5,9,-19,-2,0]\n",
        "\n",
        "max = 0\n",
        "for x in list_ex:\n",
        "    if x > max:\n",
        "        max = x\n",
        "\n",
        "print(max)"
      ]
    },
    {
      "cell_type": "markdown",
      "id": "dbe82e45",
      "metadata": {
        "id": "dbe82e45"
      },
      "source": [
        "สร้างฟังก์ชันที่ปริ้นท์ตารางสูตรคูณจากค่าจำนวนนับที่กำหนด เช่น `multiplication_table(5)` จะปริ้นท์\n",
        "```\n",
        "5 * 1 = 5\n",
        "5 * 2 = 10\n",
        "5 * 3 = 15\n",
        "5 * 4 = 20\n",
        "5 * 5 = 25\n",
        "5 * 6 = 30\n",
        "5 * 7 = 35\n",
        "5 * 8 = 40\n",
        "5 * 9 = 45\n",
        "5 * 10 = 50\n",
        "5 * 11 = 55\n",
        "5 * 12 = 60\n",
        "```"
      ]
    },
    {
      "cell_type": "code",
      "execution_count": null,
      "id": "2b26fa8b",
      "metadata": {
        "id": "2b26fa8b",
        "colab": {
          "base_uri": "https://localhost:8080/"
        },
        "outputId": "7785949f-8b65-4595-86fd-463331c7d110"
      },
      "outputs": [
        {
          "output_type": "stream",
          "name": "stdout",
          "text": [
            "5 * 1 = 5\n",
            "5 * 2 = 10\n",
            "5 * 3 = 15\n",
            "5 * 4 = 20\n",
            "5 * 5 = 25\n",
            "5 * 6 = 30\n",
            "5 * 7 = 35\n",
            "5 * 8 = 40\n",
            "5 * 9 = 45\n",
            "5 * 10 = 50\n",
            "5 * 11 = 55\n",
            "5 * 12 = 60\n"
          ]
        }
      ],
      "source": [
        "def multiplication_table(x):\n",
        "    for i in range(1,13):\n",
        "      result = x * i\n",
        "      print(f'{x} * {i} = {result}')\n",
        "multiplication_table(5)"
      ]
    },
    {
      "cell_type": "markdown",
      "id": "792c9e6f",
      "metadata": {
        "id": "792c9e6f"
      },
      "source": [
        "เขียนฟังก์ชัน `sum_factorials(n)` ที่คำนวณค่าผลบวกต่อไปนี้จากจำนวนนับที่กำหนดให้ $1 + \\frac{1}{1!} + \\frac{1}{2!} + \\frac{1}{3!} + ... + \\frac{1}{n!}$ โดยไม่ใช้ฟังก์ชัน factorial จากไลบรารี่ใด ๆ"
      ]
    },
    {
      "cell_type": "code",
      "execution_count": null,
      "id": "84947edd",
      "metadata": {
        "id": "84947edd"
      },
      "outputs": [],
      "source": [
        "def sum_factorials(n):\n",
        "  total_sum = 1\n",
        "  for i in range(1, n + 1):\n",
        "    total_sum += 1/ factorials(i)\n",
        "  return total_sum"
      ]
    },
    {
      "cell_type": "code",
      "execution_count": null,
      "id": "17fc2667",
      "metadata": {
        "id": "17fc2667"
      },
      "outputs": [],
      "source": [
        "# Check! ฟังก์ชันที่เขียนถูกต้อง ถ้ารันโค้ดผ่านโดยไม่มี error ใด ๆ\n",
        "import numpy as np\n",
        "assert np.isclose(sum_factorials(5), sum([1/np.math.factorial(i) for i in range(0,6)])), \"The computation is wrong!\"\n",
        "assert np.isclose(sum_factorials(10), sum([1/np.math.factorial(i) for i in range(0,11)])), \"The computation is wrong!\""
      ]
    },
    {
      "cell_type": "markdown",
      "id": "9433bfbb",
      "metadata": {
        "id": "9433bfbb"
      },
      "source": [
        "# Data Preparation"
      ]
    },
    {
      "cell_type": "markdown",
      "id": "8235a996",
      "metadata": {
        "id": "8235a996"
      },
      "source": [
        "ศึกษาข้อมูล `Data_Facebook_Python.xlsx`"
      ]
    },
    {
      "cell_type": "markdown",
      "id": "97220f26",
      "metadata": {
        "id": "97220f26"
      },
      "source": [
        "อ่านข้อมูลด้วยฟังก์ชันในไลบรารี Pandas"
      ]
    },
    {
      "cell_type": "code",
      "execution_count": null,
      "id": "eaa588a5",
      "metadata": {
        "id": "eaa588a5",
        "outputId": "91bce7e5-7fd7-4999-8a26-40d8b57a63a4",
        "colab": {
          "base_uri": "https://localhost:8080/"
        }
      },
      "outputs": [
        {
          "output_type": "stream",
          "name": "stdout",
          "text": [
            "Mounted at /content/drive\n"
          ]
        }
      ],
      "source": [
        "from google.colab import drive\n",
        "drive.mount('/content/drive')"
      ]
    },
    {
      "cell_type": "code",
      "source": [
        "import pandas as pd"
      ],
      "metadata": {
        "id": "J66NXJsPSXVc"
      },
      "id": "J66NXJsPSXVc",
      "execution_count": null,
      "outputs": []
    },
    {
      "cell_type": "code",
      "source": [
        "data = pd.read_excel('/content/drive/MyDrive/Mining/Data_Facebook_Python.xlsx', sheet_name = 'ข้อมูลวิเคราะห์')\n",
        "data"
      ],
      "metadata": {
        "id": "ChT1MKQu1n_6",
        "outputId": "7857ef86-c49f-4a62-b81d-faf2dcbe55de",
        "colab": {
          "base_uri": "https://localhost:8080/",
          "height": 832
        }
      },
      "id": "ChT1MKQu1n_6",
      "execution_count": null,
      "outputs": [
        {
          "output_type": "execute_result",
          "data": {
            "text/plain": [
              "      No GENDER  AGE               EDUCATION                 CAREER   SALARY  \\\n",
              "0      1   หญิง   23               ปริญญาตรี     พนักงานบริษัทเอกชน  20000.0   \n",
              "1      2   หญิง   22               ปริญญาตรี  ข้าราชการ/รัฐวิสาหกิจ  16000.0   \n",
              "2      3    ชาย   25               ปริญญาตรี     พนักงานบริษัทเอกชน  18000.0   \n",
              "3      4   หญิง   21  มัธยมปลายหรือเทียบเท่า  ข้าราชการ/รัฐวิสาหกิจ  14000.0   \n",
              "4      5    ชาย   18  มัธยมปลายหรือเทียบเท่า      นักเรียน/นักศึกษา  10000.0   \n",
              "..   ...    ...  ...                     ...                    ...      ...   \n",
              "195  196    ชาย   25               ปริญญาตรี     พนักงานบริษัทเอกชน  20000.0   \n",
              "196  197   หญิง   24               ปริญญาตรี     พนักงานบริษัทเอกชน  18000.0   \n",
              "197  198    ชาย   17  มัธยมปลายหรือเทียบเท่า      นักเรียน/นักศึกษา  10000.0   \n",
              "198  199    ชาย   25               ปริญญาตรี     พนักงานบริษัทเอกชน  20000.0   \n",
              "199  200   หญิง   25               ปริญญาตรี     พนักงานบริษัทเอกชน  20000.0   \n",
              "\n",
              "     INTERNET_PAY                         PLACE               TIME  \\\n",
              "0             590                    บ้าน/หอพัก  4 - 6 วัน/สัปดาห์   \n",
              "1             500                    บ้าน/หอพัก             ทุกวัน   \n",
              "2             590  สถานที่ให้บริการอินเตอร์เน็ต  2 - 3 วัน/สัปดาห์   \n",
              "3             500                    บ้าน/หอพัก             ทุกวัน   \n",
              "4             650                    บ้าน/หอพัก             ทุกวัน   \n",
              "..            ...                           ...                ...   \n",
              "195           590                    บ้าน/หอพัก  2 - 3 วัน/สัปดาห์   \n",
              "196           500                    บ้าน/หอพัก  4 - 6 วัน/สัปดาห์   \n",
              "197           590                    บ้าน/หอพัก             ทุกวัน   \n",
              "198           650                    บ้าน/หอพัก             ทุกวัน   \n",
              "199           590                    บ้าน/หอพัก             ทุกวัน   \n",
              "\n",
              "                  HOUR  ... APPLICATIONS                           TYPE  \\\n",
              "0       3 - 4 ชม. /วัน  ...          ใช้         การโพสต์ข้อความ/รูปภาพ   \n",
              "1    มากกว่า 4 ชม./วัน  ...          ใช้         การโพสต์ข้อความ/รูปภาพ   \n",
              "2       3 - 4 ชม. /วัน  ...          ใช้         การโพสต์ข้อความ/รูปภาพ   \n",
              "3    มากกว่า 4 ชม./วัน  ...          ใช้  เกมส์ที่เน้นการได้คะแนนสูงสุด   \n",
              "4    มากกว่า 4 ชม./วัน  ...          ใช้         การโพสต์ข้อความ/รูปภาพ   \n",
              "..                 ...  ...          ...                            ...   \n",
              "195     3 - 4 ชม. /วัน  ...          ใช้         การโพสต์ข้อความ/รูปภาพ   \n",
              "196     3 - 4 ชม. /วัน  ...          ใช้         การโพสต์ข้อความ/รูปภาพ   \n",
              "197  มากกว่า 4 ชม./วัน  ...          ใช้         การโพสต์ข้อความ/รูปภาพ   \n",
              "198  มากกว่า 4 ชม./วัน  ...          ใช้         การโพสต์ข้อความ/รูปภาพ   \n",
              "199     1 - 2 ชม. /วัน  ...          ใช้         การโพสต์ข้อความ/รูปภาพ   \n",
              "\n",
              "               (F1)      (F2)             (F3)             (F4)  \\\n",
              "0          สำคัญมาก   ปานกลาง          ปานกลาง          ปานกลาง   \n",
              "1    สำคัญมากที่สุด  สำคัญมาก          ปานกลาง          ปานกลาง   \n",
              "2          สำคัญมาก   ปานกลาง  สำคัญน้อยที่สุด        สำคัญน้อย   \n",
              "3    สำคัญมากที่สุด   ปานกลาง   สำคัญมากที่สุด         สำคัญมาก   \n",
              "4    สำคัญมากที่สุด   ปานกลาง         สำคัญมาก         สำคัญมาก   \n",
              "..              ...       ...              ...              ...   \n",
              "195  สำคัญมากที่สุด  สำคัญมาก         สำคัญมาก          ปานกลาง   \n",
              "196  สำคัญมากที่สุด  สำคัญมาก         สำคัญมาก  สำคัญน้อยที่สุด   \n",
              "197  สำคัญมากที่สุด   ปานกลาง         สำคัญมาก         สำคัญมาก   \n",
              "198  สำคัญมากที่สุด   ปานกลาง          ปานกลาง         สำคัญมาก   \n",
              "199  สำคัญมากที่สุด   ปานกลาง          ปานกลาง          ปานกลาง   \n",
              "\n",
              "               (F5)            (O1)            (O2)             (O3)  \n",
              "0    สำคัญมากที่สุด  สำคัญมากที่สุด        สำคัญมาก  สำคัญน้อยที่สุด  \n",
              "1    สำคัญมากที่สุด  สำคัญมากที่สุด  สำคัญมากที่สุด        สำคัญน้อย  \n",
              "2          สำคัญมาก  สำคัญมากที่สุด         ปานกลาง  สำคัญน้อยที่สุด  \n",
              "3    สำคัญมากที่สุด  สำคัญมากที่สุด  สำคัญมากที่สุด          ปานกลาง  \n",
              "4    สำคัญมากที่สุด  สำคัญมากที่สุด  สำคัญมากที่สุด          ปานกลาง  \n",
              "..              ...             ...             ...              ...  \n",
              "195  สำคัญมากที่สุด  สำคัญมากที่สุด        สำคัญมาก         สำคัญมาก  \n",
              "196  สำคัญมากที่สุด  สำคัญมากที่สุด  สำคัญมากที่สุด         สำคัญมาก  \n",
              "197  สำคัญมากที่สุด  สำคัญมากที่สุด  สำคัญมากที่สุด         สำคัญมาก  \n",
              "198  สำคัญมากที่สุด  สำคัญมากที่สุด  สำคัญมากที่สุด   สำคัญมากที่สุด  \n",
              "199  สำคัญมากที่สุด  สำคัญมากที่สุด         ปานกลาง  สำคัญน้อยที่สุด  \n",
              "\n",
              "[200 rows x 21 columns]"
            ],
            "text/html": [
              "\n",
              "\n",
              "  <div id=\"df-4284a9a0-ca5f-4706-91ac-531ccd6ea649\">\n",
              "    <div class=\"colab-df-container\">\n",
              "      <div>\n",
              "<style scoped>\n",
              "    .dataframe tbody tr th:only-of-type {\n",
              "        vertical-align: middle;\n",
              "    }\n",
              "\n",
              "    .dataframe tbody tr th {\n",
              "        vertical-align: top;\n",
              "    }\n",
              "\n",
              "    .dataframe thead th {\n",
              "        text-align: right;\n",
              "    }\n",
              "</style>\n",
              "<table border=\"1\" class=\"dataframe\">\n",
              "  <thead>\n",
              "    <tr style=\"text-align: right;\">\n",
              "      <th></th>\n",
              "      <th>No</th>\n",
              "      <th>GENDER</th>\n",
              "      <th>AGE</th>\n",
              "      <th>EDUCATION</th>\n",
              "      <th>CAREER</th>\n",
              "      <th>SALARY</th>\n",
              "      <th>INTERNET_PAY</th>\n",
              "      <th>PLACE</th>\n",
              "      <th>TIME</th>\n",
              "      <th>HOUR</th>\n",
              "      <th>...</th>\n",
              "      <th>APPLICATIONS</th>\n",
              "      <th>TYPE</th>\n",
              "      <th>(F1)</th>\n",
              "      <th>(F2)</th>\n",
              "      <th>(F3)</th>\n",
              "      <th>(F4)</th>\n",
              "      <th>(F5)</th>\n",
              "      <th>(O1)</th>\n",
              "      <th>(O2)</th>\n",
              "      <th>(O3)</th>\n",
              "    </tr>\n",
              "  </thead>\n",
              "  <tbody>\n",
              "    <tr>\n",
              "      <th>0</th>\n",
              "      <td>1</td>\n",
              "      <td>หญิง</td>\n",
              "      <td>23</td>\n",
              "      <td>ปริญญาตรี</td>\n",
              "      <td>พนักงานบริษัทเอกชน</td>\n",
              "      <td>20000.0</td>\n",
              "      <td>590</td>\n",
              "      <td>บ้าน/หอพัก</td>\n",
              "      <td>4 - 6 วัน/สัปดาห์</td>\n",
              "      <td>3 - 4 ชม. /วัน</td>\n",
              "      <td>...</td>\n",
              "      <td>ใช้</td>\n",
              "      <td>การโพสต์ข้อความ/รูปภาพ</td>\n",
              "      <td>สำคัญมาก</td>\n",
              "      <td>ปานกลาง</td>\n",
              "      <td>ปานกลาง</td>\n",
              "      <td>ปานกลาง</td>\n",
              "      <td>สำคัญมากที่สุด</td>\n",
              "      <td>สำคัญมากที่สุด</td>\n",
              "      <td>สำคัญมาก</td>\n",
              "      <td>สำคัญน้อยที่สุด</td>\n",
              "    </tr>\n",
              "    <tr>\n",
              "      <th>1</th>\n",
              "      <td>2</td>\n",
              "      <td>หญิง</td>\n",
              "      <td>22</td>\n",
              "      <td>ปริญญาตรี</td>\n",
              "      <td>ข้าราชการ/รัฐวิสาหกิจ</td>\n",
              "      <td>16000.0</td>\n",
              "      <td>500</td>\n",
              "      <td>บ้าน/หอพัก</td>\n",
              "      <td>ทุกวัน</td>\n",
              "      <td>มากกว่า 4 ชม./วัน</td>\n",
              "      <td>...</td>\n",
              "      <td>ใช้</td>\n",
              "      <td>การโพสต์ข้อความ/รูปภาพ</td>\n",
              "      <td>สำคัญมากที่สุด</td>\n",
              "      <td>สำคัญมาก</td>\n",
              "      <td>ปานกลาง</td>\n",
              "      <td>ปานกลาง</td>\n",
              "      <td>สำคัญมากที่สุด</td>\n",
              "      <td>สำคัญมากที่สุด</td>\n",
              "      <td>สำคัญมากที่สุด</td>\n",
              "      <td>สำคัญน้อย</td>\n",
              "    </tr>\n",
              "    <tr>\n",
              "      <th>2</th>\n",
              "      <td>3</td>\n",
              "      <td>ชาย</td>\n",
              "      <td>25</td>\n",
              "      <td>ปริญญาตรี</td>\n",
              "      <td>พนักงานบริษัทเอกชน</td>\n",
              "      <td>18000.0</td>\n",
              "      <td>590</td>\n",
              "      <td>สถานที่ให้บริการอินเตอร์เน็ต</td>\n",
              "      <td>2 - 3 วัน/สัปดาห์</td>\n",
              "      <td>3 - 4 ชม. /วัน</td>\n",
              "      <td>...</td>\n",
              "      <td>ใช้</td>\n",
              "      <td>การโพสต์ข้อความ/รูปภาพ</td>\n",
              "      <td>สำคัญมาก</td>\n",
              "      <td>ปานกลาง</td>\n",
              "      <td>สำคัญน้อยที่สุด</td>\n",
              "      <td>สำคัญน้อย</td>\n",
              "      <td>สำคัญมาก</td>\n",
              "      <td>สำคัญมากที่สุด</td>\n",
              "      <td>ปานกลาง</td>\n",
              "      <td>สำคัญน้อยที่สุด</td>\n",
              "    </tr>\n",
              "    <tr>\n",
              "      <th>3</th>\n",
              "      <td>4</td>\n",
              "      <td>หญิง</td>\n",
              "      <td>21</td>\n",
              "      <td>มัธยมปลายหรือเทียบเท่า</td>\n",
              "      <td>ข้าราชการ/รัฐวิสาหกิจ</td>\n",
              "      <td>14000.0</td>\n",
              "      <td>500</td>\n",
              "      <td>บ้าน/หอพัก</td>\n",
              "      <td>ทุกวัน</td>\n",
              "      <td>มากกว่า 4 ชม./วัน</td>\n",
              "      <td>...</td>\n",
              "      <td>ใช้</td>\n",
              "      <td>เกมส์ที่เน้นการได้คะแนนสูงสุด</td>\n",
              "      <td>สำคัญมากที่สุด</td>\n",
              "      <td>ปานกลาง</td>\n",
              "      <td>สำคัญมากที่สุด</td>\n",
              "      <td>สำคัญมาก</td>\n",
              "      <td>สำคัญมากที่สุด</td>\n",
              "      <td>สำคัญมากที่สุด</td>\n",
              "      <td>สำคัญมากที่สุด</td>\n",
              "      <td>ปานกลาง</td>\n",
              "    </tr>\n",
              "    <tr>\n",
              "      <th>4</th>\n",
              "      <td>5</td>\n",
              "      <td>ชาย</td>\n",
              "      <td>18</td>\n",
              "      <td>มัธยมปลายหรือเทียบเท่า</td>\n",
              "      <td>นักเรียน/นักศึกษา</td>\n",
              "      <td>10000.0</td>\n",
              "      <td>650</td>\n",
              "      <td>บ้าน/หอพัก</td>\n",
              "      <td>ทุกวัน</td>\n",
              "      <td>มากกว่า 4 ชม./วัน</td>\n",
              "      <td>...</td>\n",
              "      <td>ใช้</td>\n",
              "      <td>การโพสต์ข้อความ/รูปภาพ</td>\n",
              "      <td>สำคัญมากที่สุด</td>\n",
              "      <td>ปานกลาง</td>\n",
              "      <td>สำคัญมาก</td>\n",
              "      <td>สำคัญมาก</td>\n",
              "      <td>สำคัญมากที่สุด</td>\n",
              "      <td>สำคัญมากที่สุด</td>\n",
              "      <td>สำคัญมากที่สุด</td>\n",
              "      <td>ปานกลาง</td>\n",
              "    </tr>\n",
              "    <tr>\n",
              "      <th>...</th>\n",
              "      <td>...</td>\n",
              "      <td>...</td>\n",
              "      <td>...</td>\n",
              "      <td>...</td>\n",
              "      <td>...</td>\n",
              "      <td>...</td>\n",
              "      <td>...</td>\n",
              "      <td>...</td>\n",
              "      <td>...</td>\n",
              "      <td>...</td>\n",
              "      <td>...</td>\n",
              "      <td>...</td>\n",
              "      <td>...</td>\n",
              "      <td>...</td>\n",
              "      <td>...</td>\n",
              "      <td>...</td>\n",
              "      <td>...</td>\n",
              "      <td>...</td>\n",
              "      <td>...</td>\n",
              "      <td>...</td>\n",
              "      <td>...</td>\n",
              "    </tr>\n",
              "    <tr>\n",
              "      <th>195</th>\n",
              "      <td>196</td>\n",
              "      <td>ชาย</td>\n",
              "      <td>25</td>\n",
              "      <td>ปริญญาตรี</td>\n",
              "      <td>พนักงานบริษัทเอกชน</td>\n",
              "      <td>20000.0</td>\n",
              "      <td>590</td>\n",
              "      <td>บ้าน/หอพัก</td>\n",
              "      <td>2 - 3 วัน/สัปดาห์</td>\n",
              "      <td>3 - 4 ชม. /วัน</td>\n",
              "      <td>...</td>\n",
              "      <td>ใช้</td>\n",
              "      <td>การโพสต์ข้อความ/รูปภาพ</td>\n",
              "      <td>สำคัญมากที่สุด</td>\n",
              "      <td>สำคัญมาก</td>\n",
              "      <td>สำคัญมาก</td>\n",
              "      <td>ปานกลาง</td>\n",
              "      <td>สำคัญมากที่สุด</td>\n",
              "      <td>สำคัญมากที่สุด</td>\n",
              "      <td>สำคัญมาก</td>\n",
              "      <td>สำคัญมาก</td>\n",
              "    </tr>\n",
              "    <tr>\n",
              "      <th>196</th>\n",
              "      <td>197</td>\n",
              "      <td>หญิง</td>\n",
              "      <td>24</td>\n",
              "      <td>ปริญญาตรี</td>\n",
              "      <td>พนักงานบริษัทเอกชน</td>\n",
              "      <td>18000.0</td>\n",
              "      <td>500</td>\n",
              "      <td>บ้าน/หอพัก</td>\n",
              "      <td>4 - 6 วัน/สัปดาห์</td>\n",
              "      <td>3 - 4 ชม. /วัน</td>\n",
              "      <td>...</td>\n",
              "      <td>ใช้</td>\n",
              "      <td>การโพสต์ข้อความ/รูปภาพ</td>\n",
              "      <td>สำคัญมากที่สุด</td>\n",
              "      <td>สำคัญมาก</td>\n",
              "      <td>สำคัญมาก</td>\n",
              "      <td>สำคัญน้อยที่สุด</td>\n",
              "      <td>สำคัญมากที่สุด</td>\n",
              "      <td>สำคัญมากที่สุด</td>\n",
              "      <td>สำคัญมากที่สุด</td>\n",
              "      <td>สำคัญมาก</td>\n",
              "    </tr>\n",
              "    <tr>\n",
              "      <th>197</th>\n",
              "      <td>198</td>\n",
              "      <td>ชาย</td>\n",
              "      <td>17</td>\n",
              "      <td>มัธยมปลายหรือเทียบเท่า</td>\n",
              "      <td>นักเรียน/นักศึกษา</td>\n",
              "      <td>10000.0</td>\n",
              "      <td>590</td>\n",
              "      <td>บ้าน/หอพัก</td>\n",
              "      <td>ทุกวัน</td>\n",
              "      <td>มากกว่า 4 ชม./วัน</td>\n",
              "      <td>...</td>\n",
              "      <td>ใช้</td>\n",
              "      <td>การโพสต์ข้อความ/รูปภาพ</td>\n",
              "      <td>สำคัญมากที่สุด</td>\n",
              "      <td>ปานกลาง</td>\n",
              "      <td>สำคัญมาก</td>\n",
              "      <td>สำคัญมาก</td>\n",
              "      <td>สำคัญมากที่สุด</td>\n",
              "      <td>สำคัญมากที่สุด</td>\n",
              "      <td>สำคัญมากที่สุด</td>\n",
              "      <td>สำคัญมาก</td>\n",
              "    </tr>\n",
              "    <tr>\n",
              "      <th>198</th>\n",
              "      <td>199</td>\n",
              "      <td>ชาย</td>\n",
              "      <td>25</td>\n",
              "      <td>ปริญญาตรี</td>\n",
              "      <td>พนักงานบริษัทเอกชน</td>\n",
              "      <td>20000.0</td>\n",
              "      <td>650</td>\n",
              "      <td>บ้าน/หอพัก</td>\n",
              "      <td>ทุกวัน</td>\n",
              "      <td>มากกว่า 4 ชม./วัน</td>\n",
              "      <td>...</td>\n",
              "      <td>ใช้</td>\n",
              "      <td>การโพสต์ข้อความ/รูปภาพ</td>\n",
              "      <td>สำคัญมากที่สุด</td>\n",
              "      <td>ปานกลาง</td>\n",
              "      <td>ปานกลาง</td>\n",
              "      <td>สำคัญมาก</td>\n",
              "      <td>สำคัญมากที่สุด</td>\n",
              "      <td>สำคัญมากที่สุด</td>\n",
              "      <td>สำคัญมากที่สุด</td>\n",
              "      <td>สำคัญมากที่สุด</td>\n",
              "    </tr>\n",
              "    <tr>\n",
              "      <th>199</th>\n",
              "      <td>200</td>\n",
              "      <td>หญิง</td>\n",
              "      <td>25</td>\n",
              "      <td>ปริญญาตรี</td>\n",
              "      <td>พนักงานบริษัทเอกชน</td>\n",
              "      <td>20000.0</td>\n",
              "      <td>590</td>\n",
              "      <td>บ้าน/หอพัก</td>\n",
              "      <td>ทุกวัน</td>\n",
              "      <td>1 - 2 ชม. /วัน</td>\n",
              "      <td>...</td>\n",
              "      <td>ใช้</td>\n",
              "      <td>การโพสต์ข้อความ/รูปภาพ</td>\n",
              "      <td>สำคัญมากที่สุด</td>\n",
              "      <td>ปานกลาง</td>\n",
              "      <td>ปานกลาง</td>\n",
              "      <td>ปานกลาง</td>\n",
              "      <td>สำคัญมากที่สุด</td>\n",
              "      <td>สำคัญมากที่สุด</td>\n",
              "      <td>ปานกลาง</td>\n",
              "      <td>สำคัญน้อยที่สุด</td>\n",
              "    </tr>\n",
              "  </tbody>\n",
              "</table>\n",
              "<p>200 rows × 21 columns</p>\n",
              "</div>\n",
              "      <button class=\"colab-df-convert\" onclick=\"convertToInteractive('df-4284a9a0-ca5f-4706-91ac-531ccd6ea649')\"\n",
              "              title=\"Convert this dataframe to an interactive table.\"\n",
              "              style=\"display:none;\">\n",
              "\n",
              "  <svg xmlns=\"http://www.w3.org/2000/svg\" height=\"24px\"viewBox=\"0 0 24 24\"\n",
              "       width=\"24px\">\n",
              "    <path d=\"M0 0h24v24H0V0z\" fill=\"none\"/>\n",
              "    <path d=\"M18.56 5.44l.94 2.06.94-2.06 2.06-.94-2.06-.94-.94-2.06-.94 2.06-2.06.94zm-11 1L8.5 8.5l.94-2.06 2.06-.94-2.06-.94L8.5 2.5l-.94 2.06-2.06.94zm10 10l.94 2.06.94-2.06 2.06-.94-2.06-.94-.94-2.06-.94 2.06-2.06.94z\"/><path d=\"M17.41 7.96l-1.37-1.37c-.4-.4-.92-.59-1.43-.59-.52 0-1.04.2-1.43.59L10.3 9.45l-7.72 7.72c-.78.78-.78 2.05 0 2.83L4 21.41c.39.39.9.59 1.41.59.51 0 1.02-.2 1.41-.59l7.78-7.78 2.81-2.81c.8-.78.8-2.07 0-2.86zM5.41 20L4 18.59l7.72-7.72 1.47 1.35L5.41 20z\"/>\n",
              "  </svg>\n",
              "      </button>\n",
              "\n",
              "\n",
              "\n",
              "    <div id=\"df-e36025e2-3c1c-40ef-92bb-02a6ad05da79\">\n",
              "      <button class=\"colab-df-quickchart\" onclick=\"quickchart('df-e36025e2-3c1c-40ef-92bb-02a6ad05da79')\"\n",
              "              title=\"Suggest charts.\"\n",
              "              style=\"display:none;\">\n",
              "\n",
              "<svg xmlns=\"http://www.w3.org/2000/svg\" height=\"24px\"viewBox=\"0 0 24 24\"\n",
              "     width=\"24px\">\n",
              "    <g>\n",
              "        <path d=\"M19 3H5c-1.1 0-2 .9-2 2v14c0 1.1.9 2 2 2h14c1.1 0 2-.9 2-2V5c0-1.1-.9-2-2-2zM9 17H7v-7h2v7zm4 0h-2V7h2v10zm4 0h-2v-4h2v4z\"/>\n",
              "    </g>\n",
              "</svg>\n",
              "      </button>\n",
              "    </div>\n",
              "\n",
              "<style>\n",
              "  .colab-df-quickchart {\n",
              "    background-color: #E8F0FE;\n",
              "    border: none;\n",
              "    border-radius: 50%;\n",
              "    cursor: pointer;\n",
              "    display: none;\n",
              "    fill: #1967D2;\n",
              "    height: 32px;\n",
              "    padding: 0 0 0 0;\n",
              "    width: 32px;\n",
              "  }\n",
              "\n",
              "  .colab-df-quickchart:hover {\n",
              "    background-color: #E2EBFA;\n",
              "    box-shadow: 0px 1px 2px rgba(60, 64, 67, 0.3), 0px 1px 3px 1px rgba(60, 64, 67, 0.15);\n",
              "    fill: #174EA6;\n",
              "  }\n",
              "\n",
              "  [theme=dark] .colab-df-quickchart {\n",
              "    background-color: #3B4455;\n",
              "    fill: #D2E3FC;\n",
              "  }\n",
              "\n",
              "  [theme=dark] .colab-df-quickchart:hover {\n",
              "    background-color: #434B5C;\n",
              "    box-shadow: 0px 1px 3px 1px rgba(0, 0, 0, 0.15);\n",
              "    filter: drop-shadow(0px 1px 2px rgba(0, 0, 0, 0.3));\n",
              "    fill: #FFFFFF;\n",
              "  }\n",
              "</style>\n",
              "\n",
              "    <script>\n",
              "      async function quickchart(key) {\n",
              "        const containerElement = document.querySelector('#' + key);\n",
              "        const charts = await google.colab.kernel.invokeFunction(\n",
              "            'suggestCharts', [key], {});\n",
              "      }\n",
              "    </script>\n",
              "\n",
              "      <script>\n",
              "\n",
              "function displayQuickchartButton(domScope) {\n",
              "  let quickchartButtonEl =\n",
              "    domScope.querySelector('#df-e36025e2-3c1c-40ef-92bb-02a6ad05da79 button.colab-df-quickchart');\n",
              "  quickchartButtonEl.style.display =\n",
              "    google.colab.kernel.accessAllowed ? 'block' : 'none';\n",
              "}\n",
              "\n",
              "        displayQuickchartButton(document);\n",
              "      </script>\n",
              "      <style>\n",
              "    .colab-df-container {\n",
              "      display:flex;\n",
              "      flex-wrap:wrap;\n",
              "      gap: 12px;\n",
              "    }\n",
              "\n",
              "    .colab-df-convert {\n",
              "      background-color: #E8F0FE;\n",
              "      border: none;\n",
              "      border-radius: 50%;\n",
              "      cursor: pointer;\n",
              "      display: none;\n",
              "      fill: #1967D2;\n",
              "      height: 32px;\n",
              "      padding: 0 0 0 0;\n",
              "      width: 32px;\n",
              "    }\n",
              "\n",
              "    .colab-df-convert:hover {\n",
              "      background-color: #E2EBFA;\n",
              "      box-shadow: 0px 1px 2px rgba(60, 64, 67, 0.3), 0px 1px 3px 1px rgba(60, 64, 67, 0.15);\n",
              "      fill: #174EA6;\n",
              "    }\n",
              "\n",
              "    [theme=dark] .colab-df-convert {\n",
              "      background-color: #3B4455;\n",
              "      fill: #D2E3FC;\n",
              "    }\n",
              "\n",
              "    [theme=dark] .colab-df-convert:hover {\n",
              "      background-color: #434B5C;\n",
              "      box-shadow: 0px 1px 3px 1px rgba(0, 0, 0, 0.15);\n",
              "      filter: drop-shadow(0px 1px 2px rgba(0, 0, 0, 0.3));\n",
              "      fill: #FFFFFF;\n",
              "    }\n",
              "  </style>\n",
              "\n",
              "      <script>\n",
              "        const buttonEl =\n",
              "          document.querySelector('#df-4284a9a0-ca5f-4706-91ac-531ccd6ea649 button.colab-df-convert');\n",
              "        buttonEl.style.display =\n",
              "          google.colab.kernel.accessAllowed ? 'block' : 'none';\n",
              "\n",
              "        async function convertToInteractive(key) {\n",
              "          const element = document.querySelector('#df-4284a9a0-ca5f-4706-91ac-531ccd6ea649');\n",
              "          const dataTable =\n",
              "            await google.colab.kernel.invokeFunction('convertToInteractive',\n",
              "                                                     [key], {});\n",
              "          if (!dataTable) return;\n",
              "\n",
              "          const docLinkHtml = 'Like what you see? Visit the ' +\n",
              "            '<a target=\"_blank\" href=https://colab.research.google.com/notebooks/data_table.ipynb>data table notebook</a>'\n",
              "            + ' to learn more about interactive tables.';\n",
              "          element.innerHTML = '';\n",
              "          dataTable['output_type'] = 'display_data';\n",
              "          await google.colab.output.renderOutput(dataTable, element);\n",
              "          const docLink = document.createElement('div');\n",
              "          docLink.innerHTML = docLinkHtml;\n",
              "          element.appendChild(docLink);\n",
              "        }\n",
              "      </script>\n",
              "    </div>\n",
              "  </div>\n"
            ]
          },
          "metadata": {},
          "execution_count": 5
        }
      ]
    },
    {
      "cell_type": "markdown",
      "id": "abc6bbaf",
      "metadata": {
        "id": "abc6bbaf"
      },
      "source": [
        "ข้อมูลมีค่าว่างไหม"
      ]
    },
    {
      "cell_type": "code",
      "execution_count": null,
      "id": "edd3ac3c",
      "metadata": {
        "id": "edd3ac3c",
        "colab": {
          "base_uri": "https://localhost:8080/"
        },
        "outputId": "60fdfe04-fa63-42de-8ab3-09157262a5e5"
      },
      "outputs": [
        {
          "output_type": "execute_result",
          "data": {
            "text/plain": [
              "No              0\n",
              "GENDER          0\n",
              "AGE             0\n",
              "EDUCATION       0\n",
              "CAREER          0\n",
              "SALARY          3\n",
              "INTERNET_PAY    0\n",
              "PLACE           1\n",
              "TIME            0\n",
              "HOUR            2\n",
              "KNOWN           0\n",
              "APPLICATIONS    0\n",
              "TYPE            2\n",
              "(F1)            0\n",
              "(F2)            0\n",
              "(F3)            0\n",
              "(F4)            0\n",
              "(F5)            0\n",
              "(O1)            0\n",
              "(O2)            0\n",
              "(O3)            0\n",
              "dtype: int64"
            ]
          },
          "metadata": {},
          "execution_count": 6
        }
      ],
      "source": [
        "data.isnull().sum()"
      ]
    },
    {
      "cell_type": "code",
      "source": [
        "data.shape"
      ],
      "metadata": {
        "colab": {
          "base_uri": "https://localhost:8080/"
        },
        "id": "UJ0spTABVGXL",
        "outputId": "06370681-8b6c-4b23-f6a3-31e058b6166d"
      },
      "id": "UJ0spTABVGXL",
      "execution_count": null,
      "outputs": [
        {
          "output_type": "execute_result",
          "data": {
            "text/plain": [
              "(200, 21)"
            ]
          },
          "metadata": {},
          "execution_count": 8
        }
      ]
    },
    {
      "cell_type": "markdown",
      "id": "e2c7f8b3",
      "metadata": {
        "id": "e2c7f8b3"
      },
      "source": [
        "สร้างข้อมูลใหม่ โดยนำคอลัมน์ที่มีค่าสูญหายออกให้หมด"
      ]
    },
    {
      "cell_type": "code",
      "execution_count": null,
      "id": "180b0434",
      "metadata": {
        "id": "180b0434"
      },
      "outputs": [],
      "source": [
        "data1 = data.dropna(subset=[\"SALARY\", \"PLACE\", \"HOUR\", \"TYPE\"])"
      ]
    },
    {
      "cell_type": "code",
      "source": [
        "data1.shape"
      ],
      "metadata": {
        "colab": {
          "base_uri": "https://localhost:8080/"
        },
        "id": "zcuhzgiWWtqA",
        "outputId": "087c2848-edf7-4ea8-86b9-1cfc3d81e36b"
      },
      "id": "zcuhzgiWWtqA",
      "execution_count": null,
      "outputs": [
        {
          "output_type": "execute_result",
          "data": {
            "text/plain": [
              "(192, 21)"
            ]
          },
          "metadata": {},
          "execution_count": 10
        }
      ]
    },
    {
      "cell_type": "markdown",
      "id": "03927e3c",
      "metadata": {
        "id": "03927e3c"
      },
      "source": [
        "สร้างข้อมูลใหม่ โดยนำแถวที่มีค่าสูญหายออกให้หมด"
      ]
    },
    {
      "cell_type": "code",
      "execution_count": null,
      "id": "cb73d763",
      "metadata": {
        "id": "cb73d763"
      },
      "outputs": [],
      "source": [
        "data2 = data.dropna()"
      ]
    },
    {
      "cell_type": "code",
      "source": [
        "data2.isnull().sum()"
      ],
      "metadata": {
        "colab": {
          "base_uri": "https://localhost:8080/"
        },
        "id": "Zc3zKu7KXrnw",
        "outputId": "0510ca10-3d40-4c37-ff27-a87a6df608c9"
      },
      "id": "Zc3zKu7KXrnw",
      "execution_count": null,
      "outputs": [
        {
          "output_type": "execute_result",
          "data": {
            "text/plain": [
              "No              0\n",
              "GENDER          0\n",
              "AGE             0\n",
              "EDUCATION       0\n",
              "CAREER          0\n",
              "SALARY          0\n",
              "INTERNET_PAY    0\n",
              "PLACE           0\n",
              "TIME            0\n",
              "HOUR            0\n",
              "KNOWN           0\n",
              "APPLICATIONS    0\n",
              "TYPE            0\n",
              "(F1)            0\n",
              "(F2)            0\n",
              "(F3)            0\n",
              "(F4)            0\n",
              "(F5)            0\n",
              "(O1)            0\n",
              "(O2)            0\n",
              "(O3)            0\n",
              "dtype: int64"
            ]
          },
          "metadata": {},
          "execution_count": 12
        }
      ]
    },
    {
      "cell_type": "markdown",
      "id": "18d7895e",
      "metadata": {
        "id": "18d7895e"
      },
      "source": [
        "จากข้อมูลตั้งต้น ให้เติมค่าว่างด้วย Mean, Median, หรือ Mode ของแต่ละคอลัมน์ตามความเหมาะสม"
      ]
    },
    {
      "cell_type": "code",
      "execution_count": null,
      "id": "b8471061",
      "metadata": {
        "id": "b8471061"
      },
      "outputs": [],
      "source": [
        "data[['SALARY']] = data[['SALARY']].fillna(data['SALARY'].mean())\n",
        "data[['PLACE']] = data[['PLACE']].fillna(data[['PLACE']].dropna().mode().iloc[0,0])\n",
        "data[['HOUR']] = data[['HOUR']].fillna(data[['HOUR']].dropna().mode().iloc[0,0])\n",
        "data[['TYPE']] = data[['TYPE']].fillna(data[['TYPE']].dropna().mode().iloc[0,0])"
      ]
    },
    {
      "cell_type": "code",
      "source": [
        "data.isnull().sum()"
      ],
      "metadata": {
        "colab": {
          "base_uri": "https://localhost:8080/"
        },
        "id": "umkY9WnNu_Mg",
        "outputId": "d79867e0-ca93-4a9d-b8f6-3b1a5b25d0cc"
      },
      "id": "umkY9WnNu_Mg",
      "execution_count": null,
      "outputs": [
        {
          "output_type": "execute_result",
          "data": {
            "text/plain": [
              "No              0\n",
              "GENDER          0\n",
              "AGE             0\n",
              "EDUCATION       0\n",
              "CAREER          0\n",
              "SALARY          0\n",
              "INTERNET_PAY    0\n",
              "PLACE           0\n",
              "TIME            0\n",
              "HOUR            0\n",
              "KNOWN           0\n",
              "APPLICATIONS    0\n",
              "TYPE            0\n",
              "(F1)            0\n",
              "(F2)            0\n",
              "(F3)            0\n",
              "(F4)            0\n",
              "(F5)            0\n",
              "(O1)            0\n",
              "(O2)            0\n",
              "(O3)            0\n",
              "dtype: int64"
            ]
          },
          "metadata": {},
          "execution_count": 27
        }
      ]
    },
    {
      "cell_type": "markdown",
      "id": "d5907b58",
      "metadata": {
        "id": "d5907b58"
      },
      "source": [
        "จากข้อมูลที่เติมค่าสูญหายเรียบร้อยแล้ว ให้สร้างข้อมูลใหม่ที่ทำการลงรหัสของ Factor (F1 - F5) และ Objective (O1 - O3) ทั้งหมด ตาม Sheet คู่มือลงรหัส"
      ]
    },
    {
      "cell_type": "code",
      "execution_count": null,
      "id": "5c95cf7e",
      "metadata": {
        "id": "5c95cf7e"
      },
      "outputs": [],
      "source": [
        "fo_mapping = {\n",
        "    'สำคัญน้อยที่สุด':1,\n",
        "    'สำคัญน้อย':2,\n",
        "    'ปานกลาง':3,\n",
        "    'สำคัญมาก':4,\n",
        "    'สำคัญมากที่สุด':5\n",
        "}\n",
        "data['F1'] = data['(F1)'].map(fo_mapping)\n",
        "data['F2'] = data['(F2)'].map(fo_mapping)\n",
        "data['F3'] = data['(F3)'].map(fo_mapping)\n",
        "data['F4'] = data['(F4)'].map(fo_mapping)\n",
        "data['F5'] = data['(F5)'].map(fo_mapping)\n",
        "data['O1'] = data['(O1)'].map(fo_mapping)\n",
        "data['O2'] = data['(O2)'].map(fo_mapping)\n",
        "data['O3'] = data['(O3)'].map(fo_mapping)"
      ]
    },
    {
      "cell_type": "markdown",
      "id": "db52fd4d",
      "metadata": {
        "id": "db52fd4d"
      },
      "source": [
        "จากข้อมูลที่เติมค่าสูญหายเรียบร้อยแล้ว ให้สร้าง plot แสดงความถี่ของตัวแปรเพศของผู้ใช้เฟซบุ๊ค"
      ]
    },
    {
      "cell_type": "code",
      "execution_count": null,
      "id": "36fac357",
      "metadata": {
        "id": "36fac357",
        "colab": {
          "base_uri": "https://localhost:8080/",
          "height": 452
        },
        "outputId": "6b90a2d9-9f8e-4307-a09d-5d224e1ac2fb"
      },
      "outputs": [
        {
          "output_type": "display_data",
          "data": {
            "text/plain": [
              "<Figure size 640x480 with 1 Axes>"
            ],
            "image/png": "[encoded data removed]"
          },
          "metadata": {}
        }
      ],
      "source": [
        "plt.hist(data['GENDER'])\n",
        "plt.title('Frequency of Facebook Users by Gender')\n",
        "plt.show()"
      ]
    },
    {
      "cell_type": "markdown",
      "id": "8f2e8514",
      "metadata": {
        "id": "8f2e8514"
      },
      "source": [
        "จากข้อมูลที่เติมค่าสูญหายเรียบร้อยแล้ว ให้สร้าง box plot แสดงการแจกแจงของตัวแปรอายุของผู้ใช้เฟซบุ๊ค"
      ]
    },
    {
      "cell_type": "code",
      "execution_count": null,
      "id": "cde20c81",
      "metadata": {
        "id": "cde20c81",
        "colab": {
          "base_uri": "https://localhost:8080/"
        },
        "outputId": "325b76a5-49c8-4e1a-94f8-5f2c47bc7b3b"
      },
      "outputs": [
        {
          "output_type": "execute_result",
          "data": {
            "text/plain": [
              "22.725"
            ]
          },
          "metadata": {},
          "execution_count": 35
        }
      ],
      "source": [
        "import numpy as np\n",
        "np.mean(data['AGE'])"
      ]
    },
    {
      "cell_type": "markdown",
      "id": "25863b47",
      "metadata": {
        "id": "25863b47"
      },
      "source": [
        "จากข้อมูลที่เติมค่าสูญหายเรียบร้อยแล้ว ให้สร้าง bar plot แสดงความถี่ของประเภทการใช้งานแบบต่าง ๆ (TYPE)"
      ]
    },
    {
      "cell_type": "code",
      "execution_count": null,
      "id": "78ce7fe5",
      "metadata": {
        "id": "78ce7fe5",
        "colab": {
          "base_uri": "https://localhost:8080/",
          "height": 472
        },
        "outputId": "23e6405b-5994-41fa-c3ee-a8d694302e54"
      },
      "outputs": [
        {
          "output_type": "display_data",
          "data": {
            "text/plain": [
              "<Figure size 640x480 with 1 Axes>"
            ],
            "image/png": "[encoded data removed]"
          },
          "metadata": {}
        }
      ],
      "source": [
        "sns.boxplot(data['AGE'])\n",
        "plt.xlabel('AGE')\n",
        "plt.title('Box Plot of Facebook Users Age')\n",
        "plt.show()"
      ]
    },
    {
      "cell_type": "markdown",
      "id": "4da73332",
      "metadata": {
        "id": "4da73332"
      },
      "source": [
        "จากข้อมูลที่เติมค่าสูญหายเรียบร้อยแล้ว ให้สร้างตารางสรุปค่า Factor และ Objective ทั้งหมด"
      ]
    },
    {
      "cell_type": "code",
      "execution_count": null,
      "id": "166a0826",
      "metadata": {
        "id": "166a0826",
        "colab": {
          "base_uri": "https://localhost:8080/"
        },
        "outputId": "75ed7357-25cb-4eb8-d339-196c8af8235c"
      },
      "outputs": [
        {
          "output_type": "execute_result",
          "data": {
            "text/plain": [
              "161"
            ]
          },
          "metadata": {},
          "execution_count": 57
        }
      ],
      "source": [
        "len(data[data['TYPE']==\"การโพสต์ข้อความ/รูปภาพ\"])"
      ]
    },
    {
      "cell_type": "code",
      "source": [
        "len(data[data['TYPE']==\"เกมส์ที่เน้นการได้คะแนนสูงสุด\"])"
      ],
      "metadata": {
        "colab": {
          "base_uri": "https://localhost:8080/"
        },
        "id": "OdRte9HexgTP",
        "outputId": "50ae9e72-fdd8-481d-f9e7-a617fba037a9"
      },
      "id": "OdRte9HexgTP",
      "execution_count": null,
      "outputs": [
        {
          "output_type": "execute_result",
          "data": {
            "text/plain": [
              "32"
            ]
          },
          "metadata": {},
          "execution_count": 58
        }
      ]
    },
    {
      "cell_type": "code",
      "source": [
        "len(data[data['TYPE']==\"การส่งของขวัญ\"])"
      ],
      "metadata": {
        "colab": {
          "base_uri": "https://localhost:8080/"
        },
        "id": "6zf4O8UcxgV_",
        "outputId": "06aab534-e605-40bb-a41c-a425e2e3f79d"
      },
      "id": "6zf4O8UcxgV_",
      "execution_count": null,
      "outputs": [
        {
          "output_type": "execute_result",
          "data": {
            "text/plain": [
              "4"
            ]
          },
          "metadata": {},
          "execution_count": 59
        }
      ]
    },
    {
      "cell_type": "code",
      "source": [
        "len(data[data['TYPE']==\"เกมส์ที่เน้นการมีเพื่อนมากที่สุด\"])"
      ],
      "metadata": {
        "colab": {
          "base_uri": "https://localhost:8080/"
        },
        "id": "_5gYuxGLxgYp",
        "outputId": "f4af42ac-d6f9-4c46-d9f1-d687fcbd33ee"
      },
      "id": "_5gYuxGLxgYp",
      "execution_count": null,
      "outputs": [
        {
          "output_type": "execute_result",
          "data": {
            "text/plain": [
              "3"
            ]
          },
          "metadata": {},
          "execution_count": 60
        }
      ]
    },
    {
      "cell_type": "code",
      "source": [
        "data['TYPE'].value_counts().plot(kind='bar')\n",
        "plt.xlabel('Types')\n",
        "plt.ylabel('Frequency')\n",
        "plt.title('Frequency of Usage Types')\n",
        "plt.show()"
      ],
      "metadata": {
        "colab": {
          "base_uri": "https://localhost:8080/",
          "height": 1000
        },
        "id": "brhDhULQxb3e",
        "outputId": "103a1539-1ab9-4615-877e-4d57e82247b7"
      },
      "id": "brhDhULQxb3e",
      "execution_count": null,
      "outputs": [
        {
          "output_type": "stream",
          "name": "stderr",
          "text": [
            "/usr/local/lib/python3.10/dist-packages/IPython/core/pylabtools.py:151: UserWarning: Glyph 3585 (\\N{THAI CHARACTER KO KAI}) missing from current font.\n",
            "  fig.canvas.print_figure(bytes_io, **kw)\n",
            "/usr/local/lib/python3.10/dist-packages/IPython/core/pylabtools.py:151: UserWarning: Glyph 3634 (\\N{THAI CHARACTER SARA AA}) missing from current font.\n",
            "  fig.canvas.print_figure(bytes_io, **kw)\n",
            "/usr/local/lib/python3.10/dist-packages/IPython/core/pylabtools.py:151: UserWarning: Glyph 3619 (\\N{THAI CHARACTER RO RUA}) missing from current font.\n",
            "  fig.canvas.print_figure(bytes_io, **kw)\n",
            "/usr/local/lib/python3.10/dist-packages/IPython/core/pylabtools.py:151: UserWarning: Glyph 3650 (\\N{THAI CHARACTER SARA O}) missing from current font.\n",
            "  fig.canvas.print_figure(bytes_io, **kw)\n",
            "/usr/local/lib/python3.10/dist-packages/IPython/core/pylabtools.py:151: UserWarning: Glyph 3614 (\\N{THAI CHARACTER PHO PHAN}) missing from current font.\n",
            "  fig.canvas.print_figure(bytes_io, **kw)\n",
            "/usr/local/lib/python3.10/dist-packages/IPython/core/pylabtools.py:151: UserWarning: Glyph 3626 (\\N{THAI CHARACTER SO SUA}) missing from current font.\n",
            "  fig.canvas.print_figure(bytes_io, **kw)\n",
            "/usr/local/lib/python3.10/dist-packages/IPython/core/pylabtools.py:151: UserWarning: Glyph 3605 (\\N{THAI CHARACTER TO TAO}) missing from current font.\n",
            "  fig.canvas.print_figure(bytes_io, **kw)\n",
            "/usr/local/lib/python3.10/dist-packages/IPython/core/pylabtools.py:151: UserWarning: Glyph 3660 (\\N{THAI CHARACTER THANTHAKHAT}) missing from current font.\n",
            "  fig.canvas.print_figure(bytes_io, **kw)\n",
            "/usr/local/lib/python3.10/dist-packages/IPython/core/pylabtools.py:151: UserWarning: Glyph 3586 (\\N{THAI CHARACTER KHO KHAI}) missing from current font.\n",
            "  fig.canvas.print_figure(bytes_io, **kw)\n",
            "/usr/local/lib/python3.10/dist-packages/IPython/core/pylabtools.py:151: UserWarning: Glyph 3657 (\\N{THAI CHARACTER MAI THO}) missing from current font.\n",
            "  fig.canvas.print_figure(bytes_io, **kw)\n",
            "/usr/local/lib/python3.10/dist-packages/IPython/core/pylabtools.py:151: UserWarning: Glyph 3629 (\\N{THAI CHARACTER O ANG}) missing from current font.\n",
            "  fig.canvas.print_figure(bytes_io, **kw)\n",
            "/usr/local/lib/python3.10/dist-packages/IPython/core/pylabtools.py:151: UserWarning: Glyph 3588 (\\N{THAI CHARACTER KHO KHWAI}) missing from current font.\n",
            "  fig.canvas.print_figure(bytes_io, **kw)\n",
            "/usr/local/lib/python3.10/dist-packages/IPython/core/pylabtools.py:151: UserWarning: Glyph 3623 (\\N{THAI CHARACTER WO WAEN}) missing from current font.\n",
            "  fig.canvas.print_figure(bytes_io, **kw)\n",
            "/usr/local/lib/python3.10/dist-packages/IPython/core/pylabtools.py:151: UserWarning: Glyph 3617 (\\N{THAI CHARACTER MO MA}) missing from current font.\n",
            "  fig.canvas.print_figure(bytes_io, **kw)\n",
            "/usr/local/lib/python3.10/dist-packages/IPython/core/pylabtools.py:151: UserWarning: Glyph 3641 (\\N{THAI CHARACTER SARA UU}) missing from current font.\n",
            "  fig.canvas.print_figure(bytes_io, **kw)\n",
            "/usr/local/lib/python3.10/dist-packages/IPython/core/pylabtools.py:151: UserWarning: Glyph 3611 (\\N{THAI CHARACTER PO PLA}) missing from current font.\n",
            "  fig.canvas.print_figure(bytes_io, **kw)\n",
            "/usr/local/lib/python3.10/dist-packages/IPython/core/pylabtools.py:151: UserWarning: Glyph 3616 (\\N{THAI CHARACTER PHO SAMPHAO}) missing from current font.\n",
            "  fig.canvas.print_figure(bytes_io, **kw)\n",
            "/usr/local/lib/python3.10/dist-packages/IPython/core/pylabtools.py:151: UserWarning: Glyph 3648 (\\N{THAI CHARACTER SARA E}) missing from current font.\n",
            "  fig.canvas.print_figure(bytes_io, **kw)\n",
            "/usr/local/lib/python3.10/dist-packages/IPython/core/pylabtools.py:151: UserWarning: Glyph 3607 (\\N{THAI CHARACTER THO THAHAN}) missing from current font.\n",
            "  fig.canvas.print_figure(bytes_io, **kw)\n",
            "/usr/local/lib/python3.10/dist-packages/IPython/core/pylabtools.py:151: UserWarning: Glyph 3637 (\\N{THAI CHARACTER SARA II}) missing from current font.\n",
            "  fig.canvas.print_figure(bytes_io, **kw)\n",
            "/usr/local/lib/python3.10/dist-packages/IPython/core/pylabtools.py:151: UserWarning: Glyph 3656 (\\N{THAI CHARACTER MAI EK}) missing from current font.\n",
            "  fig.canvas.print_figure(bytes_io, **kw)\n",
            "/usr/local/lib/python3.10/dist-packages/IPython/core/pylabtools.py:151: UserWarning: Glyph 3609 (\\N{THAI CHARACTER NO NU}) missing from current font.\n",
            "  fig.canvas.print_figure(bytes_io, **kw)\n",
            "/usr/local/lib/python3.10/dist-packages/IPython/core/pylabtools.py:151: UserWarning: Glyph 3652 (\\N{THAI CHARACTER SARA AI MAIMALAI}) missing from current font.\n",
            "  fig.canvas.print_figure(bytes_io, **kw)\n",
            "/usr/local/lib/python3.10/dist-packages/IPython/core/pylabtools.py:151: UserWarning: Glyph 3604 (\\N{THAI CHARACTER DO DEK}) missing from current font.\n",
            "  fig.canvas.print_figure(bytes_io, **kw)\n",
            "/usr/local/lib/python3.10/dist-packages/IPython/core/pylabtools.py:151: UserWarning: Glyph 3632 (\\N{THAI CHARACTER SARA A}) missing from current font.\n",
            "  fig.canvas.print_figure(bytes_io, **kw)\n",
            "/usr/local/lib/python3.10/dist-packages/IPython/core/pylabtools.py:151: UserWarning: Glyph 3649 (\\N{THAI CHARACTER SARA AE}) missing from current font.\n",
            "  fig.canvas.print_figure(bytes_io, **kw)\n",
            "/usr/local/lib/python3.10/dist-packages/IPython/core/pylabtools.py:151: UserWarning: Glyph 3591 (\\N{THAI CHARACTER NGO NGU}) missing from current font.\n",
            "  fig.canvas.print_figure(bytes_io, **kw)\n",
            "/usr/local/lib/python3.10/dist-packages/IPython/core/pylabtools.py:151: UserWarning: Glyph 3640 (\\N{THAI CHARACTER SARA U}) missing from current font.\n",
            "  fig.canvas.print_figure(bytes_io, **kw)\n",
            "/usr/local/lib/python3.10/dist-packages/IPython/core/pylabtools.py:151: UserWarning: Glyph 3633 (\\N{THAI CHARACTER MAI HAN-AKAT}) missing from current font.\n",
            "  fig.canvas.print_figure(bytes_io, **kw)\n",
            "/usr/local/lib/python3.10/dist-packages/IPython/core/pylabtools.py:151: UserWarning: Glyph 3597 (\\N{THAI CHARACTER YO YING}) missing from current font.\n",
            "  fig.canvas.print_figure(bytes_io, **kw)\n",
            "/usr/local/lib/python3.10/dist-packages/IPython/core/pylabtools.py:151: UserWarning: Glyph 3639 (\\N{THAI CHARACTER SARA UEE}) missing from current font.\n",
            "  fig.canvas.print_figure(bytes_io, **kw)\n"
          ]
        },
        {
          "output_type": "display_data",
          "data": {
            "text/plain": [
              "<Figure size 640x480 with 1 Axes>"
            ],
            "image/png": "[encoded data removed]"
          },
          "metadata": {}
        }
      ]
    },
    {
      "cell_type": "markdown",
      "id": "63724c94",
      "metadata": {
        "id": "63724c94"
      },
      "source": [
        "จากข้อมูลที่เติมค่าสูญหายเรียบร้อยแล้ว ให้สร้างตารางสรุปค่า Factor และ Objective ทั้งหมด โดยแบ่งการพิจารณาตามเพศ"
      ]
    },
    {
      "cell_type": "code",
      "execution_count": null,
      "id": "a78fd31b",
      "metadata": {
        "id": "a78fd31b",
        "colab": {
          "base_uri": "https://localhost:8080/"
        },
        "outputId": "4556011f-b3c7-4c30-8960-8862a4f2d26b"
      },
      "outputs": [
        {
          "output_type": "execute_result",
          "data": {
            "text/plain": [
              "No              0\n",
              "GENDER          0\n",
              "AGE             0\n",
              "EDUCATION       0\n",
              "CAREER          0\n",
              "SALARY          0\n",
              "INTERNET_PAY    0\n",
              "PLACE           0\n",
              "TIME            0\n",
              "HOUR            0\n",
              "KNOWN           0\n",
              "APPLICATIONS    0\n",
              "TYPE            0\n",
              "(F1)            0\n",
              "(F2)            0\n",
              "(F3)            0\n",
              "(F4)            0\n",
              "(F5)            0\n",
              "(O1)            0\n",
              "(O2)            0\n",
              "(O3)            0\n",
              "F1              0\n",
              "F2              0\n",
              "F3              0\n",
              "F4              0\n",
              "F5              0\n",
              "O1              0\n",
              "O2              0\n",
              "O3              0\n",
              "dtype: int64"
            ]
          },
          "metadata": {},
          "execution_count": 56
        }
      ],
      "source": [
        "data.isna().sum()"
      ]
    },
    {
      "cell_type": "markdown",
      "id": "01e86710",
      "metadata": {
        "id": "01e86710"
      },
      "source": [
        "จากข้อมูลที่เติมค่าสูญหายเรียบร้อยแล้ว ให้สร้างตารางสรุปรายได้ของผู้ใช้เฟซบุ๊คตามผู้ที่มีประเภทการใช้งานแบบต่าง ๆ กัน พร้อมทั้งสร้างแผนภาพประกอบให้เข้าใจผลได้ง่ายขึ้น ให้เขียนอธิบายสั้น ๆ จากสิ่งที่พบเห็น"
      ]
    },
    {
      "cell_type": "code",
      "execution_count": null,
      "id": "c65fcf21",
      "metadata": {
        "id": "c65fcf21",
        "colab": {
          "base_uri": "https://localhost:8080/",
          "height": 1000
        },
        "outputId": "77f4c1c4-b460-4796-97d2-058d4d40fbe2"
      },
      "outputs": [
        {
          "output_type": "stream",
          "name": "stdout",
          "text": [
            "                               TYPE        SALARY\n",
            "0                     การส่งของขวัญ  19375.000000\n",
            "1            การโพสต์ข้อความ/รูปภาพ  17692.943847\n",
            "2  เกมส์ที่เน้นการมีเพื่อนมากที่สุด  14666.666667\n",
            "3     เกมส์ที่เน้นการได้คะแนนสูงสุด  18835.247462\n"
          ]
        },
        {
          "output_type": "stream",
          "name": "stderr",
          "text": [
            "/usr/local/lib/python3.10/dist-packages/IPython/core/pylabtools.py:151: UserWarning: Glyph 3585 (\\N{THAI CHARACTER KO KAI}) missing from current font.\n",
            "  fig.canvas.print_figure(bytes_io, **kw)\n",
            "/usr/local/lib/python3.10/dist-packages/IPython/core/pylabtools.py:151: UserWarning: Glyph 3634 (\\N{THAI CHARACTER SARA AA}) missing from current font.\n",
            "  fig.canvas.print_figure(bytes_io, **kw)\n",
            "/usr/local/lib/python3.10/dist-packages/IPython/core/pylabtools.py:151: UserWarning: Glyph 3619 (\\N{THAI CHARACTER RO RUA}) missing from current font.\n",
            "  fig.canvas.print_figure(bytes_io, **kw)\n",
            "/usr/local/lib/python3.10/dist-packages/IPython/core/pylabtools.py:151: UserWarning: Glyph 3626 (\\N{THAI CHARACTER SO SUA}) missing from current font.\n",
            "  fig.canvas.print_figure(bytes_io, **kw)\n",
            "/usr/local/lib/python3.10/dist-packages/IPython/core/pylabtools.py:151: UserWarning: Glyph 3656 (\\N{THAI CHARACTER MAI EK}) missing from current font.\n",
            "  fig.canvas.print_figure(bytes_io, **kw)\n",
            "/usr/local/lib/python3.10/dist-packages/IPython/core/pylabtools.py:151: UserWarning: Glyph 3591 (\\N{THAI CHARACTER NGO NGU}) missing from current font.\n",
            "  fig.canvas.print_figure(bytes_io, **kw)\n",
            "/usr/local/lib/python3.10/dist-packages/IPython/core/pylabtools.py:151: UserWarning: Glyph 3586 (\\N{THAI CHARACTER KHO KHAI}) missing from current font.\n",
            "  fig.canvas.print_figure(bytes_io, **kw)\n",
            "/usr/local/lib/python3.10/dist-packages/IPython/core/pylabtools.py:151: UserWarning: Glyph 3629 (\\N{THAI CHARACTER O ANG}) missing from current font.\n",
            "  fig.canvas.print_figure(bytes_io, **kw)\n",
            "/usr/local/lib/python3.10/dist-packages/IPython/core/pylabtools.py:151: UserWarning: Glyph 3623 (\\N{THAI CHARACTER WO WAEN}) missing from current font.\n",
            "  fig.canvas.print_figure(bytes_io, **kw)\n",
            "/usr/local/lib/python3.10/dist-packages/IPython/core/pylabtools.py:151: UserWarning: Glyph 3633 (\\N{THAI CHARACTER MAI HAN-AKAT}) missing from current font.\n",
            "  fig.canvas.print_figure(bytes_io, **kw)\n",
            "/usr/local/lib/python3.10/dist-packages/IPython/core/pylabtools.py:151: UserWarning: Glyph 3597 (\\N{THAI CHARACTER YO YING}) missing from current font.\n",
            "  fig.canvas.print_figure(bytes_io, **kw)\n",
            "/usr/local/lib/python3.10/dist-packages/IPython/core/pylabtools.py:151: UserWarning: Glyph 3650 (\\N{THAI CHARACTER SARA O}) missing from current font.\n",
            "  fig.canvas.print_figure(bytes_io, **kw)\n",
            "/usr/local/lib/python3.10/dist-packages/IPython/core/pylabtools.py:151: UserWarning: Glyph 3614 (\\N{THAI CHARACTER PHO PHAN}) missing from current font.\n",
            "  fig.canvas.print_figure(bytes_io, **kw)\n",
            "/usr/local/lib/python3.10/dist-packages/IPython/core/pylabtools.py:151: UserWarning: Glyph 3605 (\\N{THAI CHARACTER TO TAO}) missing from current font.\n",
            "  fig.canvas.print_figure(bytes_io, **kw)\n",
            "/usr/local/lib/python3.10/dist-packages/IPython/core/pylabtools.py:151: UserWarning: Glyph 3660 (\\N{THAI CHARACTER THANTHAKHAT}) missing from current font.\n",
            "  fig.canvas.print_figure(bytes_io, **kw)\n",
            "/usr/local/lib/python3.10/dist-packages/IPython/core/pylabtools.py:151: UserWarning: Glyph 3657 (\\N{THAI CHARACTER MAI THO}) missing from current font.\n",
            "  fig.canvas.print_figure(bytes_io, **kw)\n",
            "/usr/local/lib/python3.10/dist-packages/IPython/core/pylabtools.py:151: UserWarning: Glyph 3588 (\\N{THAI CHARACTER KHO KHWAI}) missing from current font.\n",
            "  fig.canvas.print_figure(bytes_io, **kw)\n",
            "/usr/local/lib/python3.10/dist-packages/IPython/core/pylabtools.py:151: UserWarning: Glyph 3617 (\\N{THAI CHARACTER MO MA}) missing from current font.\n",
            "  fig.canvas.print_figure(bytes_io, **kw)\n",
            "/usr/local/lib/python3.10/dist-packages/IPython/core/pylabtools.py:151: UserWarning: Glyph 3641 (\\N{THAI CHARACTER SARA UU}) missing from current font.\n",
            "  fig.canvas.print_figure(bytes_io, **kw)\n",
            "/usr/local/lib/python3.10/dist-packages/IPython/core/pylabtools.py:151: UserWarning: Glyph 3611 (\\N{THAI CHARACTER PO PLA}) missing from current font.\n",
            "  fig.canvas.print_figure(bytes_io, **kw)\n",
            "/usr/local/lib/python3.10/dist-packages/IPython/core/pylabtools.py:151: UserWarning: Glyph 3616 (\\N{THAI CHARACTER PHO SAMPHAO}) missing from current font.\n",
            "  fig.canvas.print_figure(bytes_io, **kw)\n",
            "/usr/local/lib/python3.10/dist-packages/IPython/core/pylabtools.py:151: UserWarning: Glyph 3648 (\\N{THAI CHARACTER SARA E}) missing from current font.\n",
            "  fig.canvas.print_figure(bytes_io, **kw)\n",
            "/usr/local/lib/python3.10/dist-packages/IPython/core/pylabtools.py:151: UserWarning: Glyph 3607 (\\N{THAI CHARACTER THO THAHAN}) missing from current font.\n",
            "  fig.canvas.print_figure(bytes_io, **kw)\n",
            "/usr/local/lib/python3.10/dist-packages/IPython/core/pylabtools.py:151: UserWarning: Glyph 3637 (\\N{THAI CHARACTER SARA II}) missing from current font.\n",
            "  fig.canvas.print_figure(bytes_io, **kw)\n",
            "/usr/local/lib/python3.10/dist-packages/IPython/core/pylabtools.py:151: UserWarning: Glyph 3609 (\\N{THAI CHARACTER NO NU}) missing from current font.\n",
            "  fig.canvas.print_figure(bytes_io, **kw)\n",
            "/usr/local/lib/python3.10/dist-packages/IPython/core/pylabtools.py:151: UserWarning: Glyph 3639 (\\N{THAI CHARACTER SARA UEE}) missing from current font.\n",
            "  fig.canvas.print_figure(bytes_io, **kw)\n",
            "/usr/local/lib/python3.10/dist-packages/IPython/core/pylabtools.py:151: UserWarning: Glyph 3640 (\\N{THAI CHARACTER SARA U}) missing from current font.\n",
            "  fig.canvas.print_figure(bytes_io, **kw)\n",
            "/usr/local/lib/python3.10/dist-packages/IPython/core/pylabtools.py:151: UserWarning: Glyph 3604 (\\N{THAI CHARACTER DO DEK}) missing from current font.\n",
            "  fig.canvas.print_figure(bytes_io, **kw)\n",
            "/usr/local/lib/python3.10/dist-packages/IPython/core/pylabtools.py:151: UserWarning: Glyph 3652 (\\N{THAI CHARACTER SARA AI MAIMALAI}) missing from current font.\n",
            "  fig.canvas.print_figure(bytes_io, **kw)\n",
            "/usr/local/lib/python3.10/dist-packages/IPython/core/pylabtools.py:151: UserWarning: Glyph 3632 (\\N{THAI CHARACTER SARA A}) missing from current font.\n",
            "  fig.canvas.print_figure(bytes_io, **kw)\n",
            "/usr/local/lib/python3.10/dist-packages/IPython/core/pylabtools.py:151: UserWarning: Glyph 3649 (\\N{THAI CHARACTER SARA AE}) missing from current font.\n",
            "  fig.canvas.print_figure(bytes_io, **kw)\n"
          ]
        },
        {
          "output_type": "display_data",
          "data": {
            "text/plain": [
              "<Figure size 640x480 with 1 Axes>"
            ],
            "image/png": "[encoded data removed]"
          },
          "metadata": {}
        }
      ],
      "source": [
        "summary_table = data.groupby('TYPE')['SALARY'].mean().reset_index()\n",
        "print(summary_table)\n",
        "sns.barplot(x='TYPE', y='SALARY', data=summary_table, palette='pastel')\n",
        "plt.xlabel('TYPE')\n",
        "plt.ylabel('SALARY')\n",
        "plt.title('Average Income by Usage Type on Facebook')\n",
        "plt.show()"
      ]
    },
    {
      "cell_type": "markdown",
      "id": "a1ae2f33",
      "metadata": {
        "id": "a1ae2f33"
      },
      "source": [
        "เลือกทำการสร้างตารางและรูปภาพที่สรุปผลจากข้อมูลมาอย่างละ 2 แบบ พร้อมเขียนบรรยายสั้น ๆ หากมีการทำงานร่วมกับเพื่อน ให้ทำออกมาให้ไม่ซ้ำกัน"
      ]
    },
    {
      "cell_type": "code",
      "execution_count": null,
      "id": "15834154",
      "metadata": {
        "id": "15834154",
        "colab": {
          "base_uri": "https://localhost:8080/",
          "height": 1000
        },
        "outputId": "2fa33ad0-5f79-498b-d8df-35c20af6d60f"
      },
      "outputs": [
        {
          "output_type": "stream",
          "name": "stdout",
          "text": [
            "ตารางสรุปค่าอินเตอร์เน็ต:\n",
            "                  CAREER  INTERNET_PAY\n",
            "0  ข้าราชการ/รัฐวิสาหกิจ       575.750\n",
            "1         ธุรกิจส่วนตัว/       587.000\n",
            "2      นักเรียน/นักศึกษา       593.750\n",
            "3     พนักงานบริษัทเอกชน       577.625\n"
          ]
        },
        {
          "output_type": "stream",
          "name": "stderr",
          "text": [
            "/usr/local/lib/python3.10/dist-packages/IPython/core/pylabtools.py:151: UserWarning: Glyph 3586 (\\N{THAI CHARACTER KHO KHAI}) missing from current font.\n",
            "  fig.canvas.print_figure(bytes_io, **kw)\n",
            "/usr/local/lib/python3.10/dist-packages/IPython/core/pylabtools.py:151: UserWarning: Glyph 3657 (\\N{THAI CHARACTER MAI THO}) missing from current font.\n",
            "  fig.canvas.print_figure(bytes_io, **kw)\n",
            "/usr/local/lib/python3.10/dist-packages/IPython/core/pylabtools.py:151: UserWarning: Glyph 3634 (\\N{THAI CHARACTER SARA AA}) missing from current font.\n",
            "  fig.canvas.print_figure(bytes_io, **kw)\n",
            "/usr/local/lib/python3.10/dist-packages/IPython/core/pylabtools.py:151: UserWarning: Glyph 3619 (\\N{THAI CHARACTER RO RUA}) missing from current font.\n",
            "  fig.canvas.print_figure(bytes_io, **kw)\n",
            "/usr/local/lib/python3.10/dist-packages/IPython/core/pylabtools.py:151: UserWarning: Glyph 3594 (\\N{THAI CHARACTER CHO CHANG}) missing from current font.\n",
            "  fig.canvas.print_figure(bytes_io, **kw)\n",
            "/usr/local/lib/python3.10/dist-packages/IPython/core/pylabtools.py:151: UserWarning: Glyph 3585 (\\N{THAI CHARACTER KO KAI}) missing from current font.\n",
            "  fig.canvas.print_figure(bytes_io, **kw)\n",
            "/usr/local/lib/python3.10/dist-packages/IPython/core/pylabtools.py:151: UserWarning: Glyph 3633 (\\N{THAI CHARACTER MAI HAN-AKAT}) missing from current font.\n",
            "  fig.canvas.print_figure(bytes_io, **kw)\n",
            "/usr/local/lib/python3.10/dist-packages/IPython/core/pylabtools.py:151: UserWarning: Glyph 3600 (\\N{THAI CHARACTER THO THAN}) missing from current font.\n",
            "  fig.canvas.print_figure(bytes_io, **kw)\n",
            "/usr/local/lib/python3.10/dist-packages/IPython/core/pylabtools.py:151: UserWarning: Glyph 3623 (\\N{THAI CHARACTER WO WAEN}) missing from current font.\n",
            "  fig.canvas.print_figure(bytes_io, **kw)\n",
            "/usr/local/lib/python3.10/dist-packages/IPython/core/pylabtools.py:151: UserWarning: Glyph 3636 (\\N{THAI CHARACTER SARA I}) missing from current font.\n",
            "  fig.canvas.print_figure(bytes_io, **kw)\n",
            "/usr/local/lib/python3.10/dist-packages/IPython/core/pylabtools.py:151: UserWarning: Glyph 3626 (\\N{THAI CHARACTER SO SUA}) missing from current font.\n",
            "  fig.canvas.print_figure(bytes_io, **kw)\n",
            "/usr/local/lib/python3.10/dist-packages/IPython/core/pylabtools.py:151: UserWarning: Glyph 3627 (\\N{THAI CHARACTER HO HIP}) missing from current font.\n",
            "  fig.canvas.print_figure(bytes_io, **kw)\n",
            "/usr/local/lib/python3.10/dist-packages/IPython/core/pylabtools.py:151: UserWarning: Glyph 3592 (\\N{THAI CHARACTER CHO CHAN}) missing from current font.\n",
            "  fig.canvas.print_figure(bytes_io, **kw)\n",
            "/usr/local/lib/python3.10/dist-packages/IPython/core/pylabtools.py:151: UserWarning: Glyph 3608 (\\N{THAI CHARACTER THO THONG}) missing from current font.\n",
            "  fig.canvas.print_figure(bytes_io, **kw)\n",
            "/usr/local/lib/python3.10/dist-packages/IPython/core/pylabtools.py:151: UserWarning: Glyph 3640 (\\N{THAI CHARACTER SARA U}) missing from current font.\n",
            "  fig.canvas.print_figure(bytes_io, **kw)\n",
            "/usr/local/lib/python3.10/dist-packages/IPython/core/pylabtools.py:151: UserWarning: Glyph 3656 (\\N{THAI CHARACTER MAI EK}) missing from current font.\n",
            "  fig.canvas.print_figure(bytes_io, **kw)\n",
            "/usr/local/lib/python3.10/dist-packages/IPython/core/pylabtools.py:151: UserWarning: Glyph 3609 (\\N{THAI CHARACTER NO NU}) missing from current font.\n",
            "  fig.canvas.print_figure(bytes_io, **kw)\n",
            "/usr/local/lib/python3.10/dist-packages/IPython/core/pylabtools.py:151: UserWarning: Glyph 3605 (\\N{THAI CHARACTER TO TAO}) missing from current font.\n",
            "  fig.canvas.print_figure(bytes_io, **kw)\n",
            "/usr/local/lib/python3.10/dist-packages/IPython/core/pylabtools.py:151: UserWarning: Glyph 3648 (\\N{THAI CHARACTER SARA E}) missing from current font.\n",
            "  fig.canvas.print_figure(bytes_io, **kw)\n",
            "/usr/local/lib/python3.10/dist-packages/IPython/core/pylabtools.py:151: UserWarning: Glyph 3637 (\\N{THAI CHARACTER SARA II}) missing from current font.\n",
            "  fig.canvas.print_figure(bytes_io, **kw)\n",
            "/usr/local/lib/python3.10/dist-packages/IPython/core/pylabtools.py:151: UserWarning: Glyph 3618 (\\N{THAI CHARACTER YO YAK}) missing from current font.\n",
            "  fig.canvas.print_figure(bytes_io, **kw)\n",
            "/usr/local/lib/python3.10/dist-packages/IPython/core/pylabtools.py:151: UserWarning: Glyph 3624 (\\N{THAI CHARACTER SO SALA}) missing from current font.\n",
            "  fig.canvas.print_figure(bytes_io, **kw)\n",
            "/usr/local/lib/python3.10/dist-packages/IPython/core/pylabtools.py:151: UserWarning: Glyph 3638 (\\N{THAI CHARACTER SARA UE}) missing from current font.\n",
            "  fig.canvas.print_figure(bytes_io, **kw)\n",
            "/usr/local/lib/python3.10/dist-packages/IPython/core/pylabtools.py:151: UserWarning: Glyph 3625 (\\N{THAI CHARACTER SO RUSI}) missing from current font.\n",
            "  fig.canvas.print_figure(bytes_io, **kw)\n",
            "/usr/local/lib/python3.10/dist-packages/IPython/core/pylabtools.py:151: UserWarning: Glyph 3614 (\\N{THAI CHARACTER PHO PHAN}) missing from current font.\n",
            "  fig.canvas.print_figure(bytes_io, **kw)\n",
            "/usr/local/lib/python3.10/dist-packages/IPython/core/pylabtools.py:151: UserWarning: Glyph 3591 (\\N{THAI CHARACTER NGO NGU}) missing from current font.\n",
            "  fig.canvas.print_figure(bytes_io, **kw)\n",
            "/usr/local/lib/python3.10/dist-packages/IPython/core/pylabtools.py:151: UserWarning: Glyph 3610 (\\N{THAI CHARACTER BO BAIMAI}) missing from current font.\n",
            "  fig.canvas.print_figure(bytes_io, **kw)\n",
            "/usr/local/lib/python3.10/dist-packages/IPython/core/pylabtools.py:151: UserWarning: Glyph 3607 (\\N{THAI CHARACTER THO THAHAN}) missing from current font.\n",
            "  fig.canvas.print_figure(bytes_io, **kw)\n",
            "/usr/local/lib/python3.10/dist-packages/IPython/core/pylabtools.py:151: UserWarning: Glyph 3629 (\\N{THAI CHARACTER O ANG}) missing from current font.\n",
            "  fig.canvas.print_figure(bytes_io, **kw)\n"
          ]
        },
        {
          "output_type": "display_data",
          "data": {
            "text/plain": [
              "<Figure size 640x480 with 1 Axes>"
            ],
            "image/png": "[encoded data removed]"
          },
          "metadata": {}
        }
      ],
      "source": [
        "summary_table = data.groupby('CAREER')['INTERNET_PAY'].mean().reset_index()\n",
        "print(\"ตารางสรุปค่าอินเตอร์เน็ต:\")\n",
        "print(summary_table)\n",
        "sns.barplot(x='CAREER', y='INTERNET_PAY', data=summary_table, palette='pastel')\n",
        "plt.xlabel('CAREER')\n",
        "plt.ylabel('INTERNET_PAY')\n",
        "plt.title('Average INTERNET_PAY by CAREER')\n",
        "plt.show()"
      ]
    },
    {
      "cell_type": "markdown",
      "source": [
        "สรุป อาชีพของผู้ใช้ Facebook ที่มีรายจ่ายอินเตอร์เน็ตเฉลี่ยสูงที่สุด คือ นักเรียน/นักศึกษา, ธุรกิจส่วนตัว, พนักงานบริษัทเอกชน, ข้าราชการ/รัฐวิสาหกิจ\n",
        "\n",
        "1.   รายการในลิสต์\n",
        "2.   รายการในลิสต์\n",
        "\n"
      ],
      "metadata": {
        "id": "5ryD5VNY31sy"
      },
      "id": "5ryD5VNY31sy"
    },
    {
      "cell_type": "code",
      "execution_count": null,
      "id": "35b83053",
      "metadata": {
        "id": "35b83053",
        "colab": {
          "base_uri": "https://localhost:8080/",
          "height": 1000
        },
        "outputId": "0d07e3bd-aa36-4469-aa33-42e8750cb98a"
      },
      "outputs": [
        {
          "output_type": "stream",
          "name": "stdout",
          "text": [
            "ตารางสรุปค่าอินเตอร์เน็ต:\n",
            "                EDUCATION  INTERNET_PAY\n",
            "0        ต่ำกว่ามัธยมปลาย    576.153846\n",
            "1               ปริญญาตรี    577.297297\n",
            "2  มัธยมปลายหรือเทียบเท่า    591.800000\n",
            "3        สูงกว่าปริญญาตรี    588.846154\n"
          ]
        },
        {
          "output_type": "stream",
          "name": "stderr",
          "text": [
            "/usr/local/lib/python3.10/dist-packages/IPython/core/pylabtools.py:151: UserWarning: Glyph 3605 (\\N{THAI CHARACTER TO TAO}) missing from current font.\n",
            "  fig.canvas.print_figure(bytes_io, **kw)\n",
            "/usr/local/lib/python3.10/dist-packages/IPython/core/pylabtools.py:151: UserWarning: Glyph 3656 (\\N{THAI CHARACTER MAI EK}) missing from current font.\n",
            "  fig.canvas.print_figure(bytes_io, **kw)\n",
            "/usr/local/lib/python3.10/dist-packages/IPython/core/pylabtools.py:151: UserWarning: Glyph 3635 (\\N{THAI CHARACTER SARA AM}) missing from current font.\n",
            "  fig.canvas.print_figure(bytes_io, **kw)\n",
            "/usr/local/lib/python3.10/dist-packages/IPython/core/pylabtools.py:151: UserWarning: Glyph 3585 (\\N{THAI CHARACTER KO KAI}) missing from current font.\n",
            "  fig.canvas.print_figure(bytes_io, **kw)\n",
            "/usr/local/lib/python3.10/dist-packages/IPython/core/pylabtools.py:151: UserWarning: Glyph 3623 (\\N{THAI CHARACTER WO WAEN}) missing from current font.\n",
            "  fig.canvas.print_figure(bytes_io, **kw)\n",
            "/usr/local/lib/python3.10/dist-packages/IPython/core/pylabtools.py:151: UserWarning: Glyph 3634 (\\N{THAI CHARACTER SARA AA}) missing from current font.\n",
            "  fig.canvas.print_figure(bytes_io, **kw)\n",
            "/usr/local/lib/python3.10/dist-packages/IPython/core/pylabtools.py:151: UserWarning: Glyph 3617 (\\N{THAI CHARACTER MO MA}) missing from current font.\n",
            "  fig.canvas.print_figure(bytes_io, **kw)\n",
            "/usr/local/lib/python3.10/dist-packages/IPython/core/pylabtools.py:151: UserWarning: Glyph 3633 (\\N{THAI CHARACTER MAI HAN-AKAT}) missing from current font.\n",
            "  fig.canvas.print_figure(bytes_io, **kw)\n",
            "/usr/local/lib/python3.10/dist-packages/IPython/core/pylabtools.py:151: UserWarning: Glyph 3608 (\\N{THAI CHARACTER THO THONG}) missing from current font.\n",
            "  fig.canvas.print_figure(bytes_io, **kw)\n",
            "/usr/local/lib/python3.10/dist-packages/IPython/core/pylabtools.py:151: UserWarning: Glyph 3618 (\\N{THAI CHARACTER YO YAK}) missing from current font.\n",
            "  fig.canvas.print_figure(bytes_io, **kw)\n",
            "/usr/local/lib/python3.10/dist-packages/IPython/core/pylabtools.py:151: UserWarning: Glyph 3611 (\\N{THAI CHARACTER PO PLA}) missing from current font.\n",
            "  fig.canvas.print_figure(bytes_io, **kw)\n",
            "/usr/local/lib/python3.10/dist-packages/IPython/core/pylabtools.py:151: UserWarning: Glyph 3621 (\\N{THAI CHARACTER LO LING}) missing from current font.\n",
            "  fig.canvas.print_figure(bytes_io, **kw)\n",
            "/usr/local/lib/python3.10/dist-packages/IPython/core/pylabtools.py:151: UserWarning: Glyph 3619 (\\N{THAI CHARACTER RO RUA}) missing from current font.\n",
            "  fig.canvas.print_figure(bytes_io, **kw)\n",
            "/usr/local/lib/python3.10/dist-packages/IPython/core/pylabtools.py:151: UserWarning: Glyph 3636 (\\N{THAI CHARACTER SARA I}) missing from current font.\n",
            "  fig.canvas.print_figure(bytes_io, **kw)\n",
            "/usr/local/lib/python3.10/dist-packages/IPython/core/pylabtools.py:151: UserWarning: Glyph 3597 (\\N{THAI CHARACTER YO YING}) missing from current font.\n",
            "  fig.canvas.print_figure(bytes_io, **kw)\n",
            "/usr/local/lib/python3.10/dist-packages/IPython/core/pylabtools.py:151: UserWarning: Glyph 3637 (\\N{THAI CHARACTER SARA II}) missing from current font.\n",
            "  fig.canvas.print_figure(bytes_io, **kw)\n",
            "/usr/local/lib/python3.10/dist-packages/IPython/core/pylabtools.py:151: UserWarning: Glyph 3627 (\\N{THAI CHARACTER HO HIP}) missing from current font.\n",
            "  fig.canvas.print_figure(bytes_io, **kw)\n",
            "/usr/local/lib/python3.10/dist-packages/IPython/core/pylabtools.py:151: UserWarning: Glyph 3639 (\\N{THAI CHARACTER SARA UEE}) missing from current font.\n",
            "  fig.canvas.print_figure(bytes_io, **kw)\n",
            "/usr/local/lib/python3.10/dist-packages/IPython/core/pylabtools.py:151: UserWarning: Glyph 3629 (\\N{THAI CHARACTER O ANG}) missing from current font.\n",
            "  fig.canvas.print_figure(bytes_io, **kw)\n",
            "/usr/local/lib/python3.10/dist-packages/IPython/core/pylabtools.py:151: UserWarning: Glyph 3648 (\\N{THAI CHARACTER SARA E}) missing from current font.\n",
            "  fig.canvas.print_figure(bytes_io, **kw)\n",
            "/usr/local/lib/python3.10/dist-packages/IPython/core/pylabtools.py:151: UserWarning: Glyph 3607 (\\N{THAI CHARACTER THO THAHAN}) missing from current font.\n",
            "  fig.canvas.print_figure(bytes_io, **kw)\n",
            "/usr/local/lib/python3.10/dist-packages/IPython/core/pylabtools.py:151: UserWarning: Glyph 3610 (\\N{THAI CHARACTER BO BAIMAI}) missing from current font.\n",
            "  fig.canvas.print_figure(bytes_io, **kw)\n",
            "/usr/local/lib/python3.10/dist-packages/IPython/core/pylabtools.py:151: UserWarning: Glyph 3626 (\\N{THAI CHARACTER SO SUA}) missing from current font.\n",
            "  fig.canvas.print_figure(bytes_io, **kw)\n",
            "/usr/local/lib/python3.10/dist-packages/IPython/core/pylabtools.py:151: UserWarning: Glyph 3641 (\\N{THAI CHARACTER SARA UU}) missing from current font.\n",
            "  fig.canvas.print_figure(bytes_io, **kw)\n",
            "/usr/local/lib/python3.10/dist-packages/IPython/core/pylabtools.py:151: UserWarning: Glyph 3591 (\\N{THAI CHARACTER NGO NGU}) missing from current font.\n",
            "  fig.canvas.print_figure(bytes_io, **kw)\n"
          ]
        },
        {
          "output_type": "display_data",
          "data": {
            "text/plain": [
              "<Figure size 640x480 with 1 Axes>"
            ],
            "image/png": "[encoded data removed]"
          },
          "metadata": {}
        }
      ],
      "source": [
        "summary_table = data.groupby('EDUCATION')['INTERNET_PAY'].mean().reset_index()\n",
        "print(\"ตารางสรุปค่าอินเตอร์เน็ต:\")\n",
        "print(summary_table)\n",
        "sns.barplot(x='EDUCATION', y='INTERNET_PAY', data=summary_table, palette='pastel')\n",
        "plt.xlabel('EDUCATIONR')\n",
        "plt.ylabel('INTERNET_PAY')\n",
        "plt.title('Average INTERNET_PAY by EDUCATION')\n",
        "plt.show()"
      ]
    },
    {
      "cell_type": "markdown",
      "source": [
        "สรุป การศึกษาของผู้ใช้ Facebook ที่มีรายจ่ายอินเตอร์เน็ตเฉลี่ยสูงที่สุด คือ มัธยมปลายหรือเทียบเท่า, สูงกว่าปริญญาตรี, ปริญญาตรี, ต่ำกว่ามัธยมปลาย"
      ],
      "metadata": {
        "id": "z2hhwP5A49Nl"
      },
      "id": "z2hhwP5A49Nl"
    }
  ],
  "metadata": {
    "kernelspec": {
      "display_name": "Python 3 (ipykernel)",
      "language": "python",
      "name": "python3"
    },
    "language_info": {
      "codemirror_mode": {
        "name": "ipython",
        "version": 3
      },
      "file_extension": ".py",
      "mimetype": "text/x-python",
      "name": "python",
      "nbconvert_exporter": "python",
      "pygments_lexer": "ipython3",
      "version": "3.8.8"
    },
    "colab": {
      "provenance": [],
      "include_colab_link": true
    }
  },
  "nbformat": 4,
  "nbformat_minor": 5
}